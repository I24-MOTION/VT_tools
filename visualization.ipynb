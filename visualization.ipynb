{
 "cells": [
  {
   "cell_type": "code",
   "execution_count": null,
   "id": "e111d236",
   "metadata": {},
   "outputs": [],
   "source": [
    "import pandas as pd\n",
    "import os\n",
    "import re\n",
    "import warnings\n",
    "import time"
   ]
  },
  {
   "cell_type": "code",
   "execution_count": null,
   "id": "df24fe8c",
   "metadata": {},
   "outputs": [],
   "source": [
    "from visualization import visualize_heatmap\n",
    "from macro_data_processing import get_speed_mean_field\n",
    "from macro_data_processing import convert_to_cst_unix"
   ]
  },
  {
   "cell_type": "code",
   "execution_count": null,
   "id": "47b47f51",
   "metadata": {},
   "outputs": [],
   "source": [
    "# Specify an input directory where raw and/or smooth speed field CSV files reside.\n",
    "# The directory should contain only files pertaining to a specific time period (see below).\n",
    "inception_vt_root = ''\n",
    "\n",
    "# Must define start and end times for the data you are loading.\n",
    "starttime = convert_to_cst_unix('2022-11-28 06:00')\n",
    "endtime = convert_to_cst_unix('2022-11-28 10:00')"
   ]
  },
  {
   "cell_type": "code",
   "execution_count": null,
   "id": "e559555f",
   "metadata": {},
   "outputs": [],
   "source": [
    "for filename in os.listdir(inception_vt_root):\n",
    "    if os.path.splitext(filename)[1] == '.csv':\n",
    "        file_path = os.path.join(inception_vt_root, filename)\n",
    "        smooth_data = pd.read_csv(file_path)\n",
    "        pattern = r'lane(\\d+)'\n",
    "        match = re.search(pattern, file_path)\n",
    "        if match:\n",
    "            lane_number = match.group(1)\n",
    "        else:\n",
    "            print(\"Lane number not found in the input string.\")\n",
    "        print(filename)\n",
    "        visualize_heatmap(smooth_data, starttime, endtime, 0.02, 4, fig_width=16, fig_height=8, minor_xtick=int(300/4))\n",
    "        break"
   ]
  },
  {
   "cell_type": "code",
   "execution_count": null,
   "id": "57ea25f5-8c21-4e55-b01a-2bd5b84dc68b",
   "metadata": {},
   "outputs": [],
   "source": []
  }
 ],
 "metadata": {
  "kernelspec": {
   "display_name": "Python 3 (ipykernel)",
   "language": "python",
   "name": "python3"
  },
  "language_info": {
   "codemirror_mode": {
    "name": "ipython",
    "version": 3
   },
   "file_extension": ".py",
   "mimetype": "text/x-python",
   "name": "python",
   "nbconvert_exporter": "python",
   "pygments_lexer": "ipython3",
   "version": "3.10.13"
  }
 },
 "nbformat": 4,
 "nbformat_minor": 5
}
