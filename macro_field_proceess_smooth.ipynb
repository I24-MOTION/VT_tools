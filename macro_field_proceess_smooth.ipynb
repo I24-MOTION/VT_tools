{
 "cells": [
  {
   "cell_type": "code",
   "execution_count": 1,
   "id": "ab4bba0b-4ae8-44e2-9426-376f39df1945",
   "metadata": {},
   "outputs": [],
   "source": [
    "from macro_data_processing import get_speed_mean_field\n",
    "from macro_data_processing import convert_to_cst_unix\n",
    "from ASM import smooth_raw_data\n",
    "import warnings\n",
    "import time\n",
    "import os"
   ]
  },
  {
   "cell_type": "code",
   "execution_count": null,
   "id": "e4e473e8-ba1f-4990-b342-60feb9c2dd6a",
   "metadata": {},
   "outputs": [
    {
     "name": "stdout",
     "output_type": "stream",
     "text": [
      "\n",
      "Working on new input file: /Users/worklab/Downloads/I24M_INCEPTION_v1/2022-11-29/63858a2cfb3ff533c12df166__post9.json\n",
      "Date of input file: 2022-11-29\n",
      "Time range 1669723200 to 1669737600\n",
      "Output file paths:\n",
      "\tRaw speed: /Users/worklab/Downloads/I24M_INCEPTION_v1/2022-11-29/63858a2cfb3ff533c12df166__post9_speed_raw_lane1.csv\n",
      "\tSmooth speed: /Users/worklab/Downloads/I24M_INCEPTION_v1/2022-11-29/63858a2cfb3ff533c12df166__post9_speed_smooth_lane1.csv\n",
      "Speed field compute time: 632.4146058559418s\n",
      "Writing raw speed field to /Users/worklab/Downloads/I24M_INCEPTION_v1/2022-11-29/63858a2cfb3ff533c12df166__post9_speed_raw_lane1.csv\n"
     ]
    },
    {
     "name": "stderr",
     "output_type": "stream",
     "text": [
      "Processing EGTF: 100%|█████████████████████████████████████| 720000/720000 [34:13<00:00, 350.65it/s]\n"
     ]
    },
    {
     "name": "stdout",
     "output_type": "stream",
     "text": [
      "Smoothing compute time: 2053.5456068515778s\n",
      "Output file paths:\n",
      "\tRaw speed: /Users/worklab/Downloads/I24M_INCEPTION_v1/2022-11-29/63858a2cfb3ff533c12df166__post9_speed_raw_lane2.csv\n",
      "\tSmooth speed: /Users/worklab/Downloads/I24M_INCEPTION_v1/2022-11-29/63858a2cfb3ff533c12df166__post9_speed_smooth_lane2.csv\n",
      "Speed field compute time: 616.7929339408875s\n",
      "Writing raw speed field to /Users/worklab/Downloads/I24M_INCEPTION_v1/2022-11-29/63858a2cfb3ff533c12df166__post9_speed_raw_lane2.csv\n"
     ]
    },
    {
     "name": "stderr",
     "output_type": "stream",
     "text": [
      "Processing EGTF: 100%|█████████████████████████████████████| 720000/720000 [32:36<00:00, 367.98it/s]\n"
     ]
    },
    {
     "name": "stdout",
     "output_type": "stream",
     "text": [
      "Smoothing compute time: 1956.6254856586456s\n",
      "Output file paths:\n",
      "\tRaw speed: /Users/worklab/Downloads/I24M_INCEPTION_v1/2022-11-29/63858a2cfb3ff533c12df166__post9_speed_raw_lane3.csv\n",
      "\tSmooth speed: /Users/worklab/Downloads/I24M_INCEPTION_v1/2022-11-29/63858a2cfb3ff533c12df166__post9_speed_smooth_lane3.csv\n",
      "Speed field compute time: 601.7364938259125s\n",
      "Writing raw speed field to /Users/worklab/Downloads/I24M_INCEPTION_v1/2022-11-29/63858a2cfb3ff533c12df166__post9_speed_raw_lane3.csv\n"
     ]
    },
    {
     "name": "stderr",
     "output_type": "stream",
     "text": [
      "Processing EGTF: 100%|█████████████████████████████████████| 720000/720000 [30:28<00:00, 393.80it/s]\n"
     ]
    },
    {
     "name": "stdout",
     "output_type": "stream",
     "text": [
      "Smoothing compute time: 1828.3589210510254s\n",
      "Output file paths:\n",
      "\tRaw speed: /Users/worklab/Downloads/I24M_INCEPTION_v1/2022-11-29/63858a2cfb3ff533c12df166__post9_speed_raw_lane4.csv\n",
      "\tSmooth speed: /Users/worklab/Downloads/I24M_INCEPTION_v1/2022-11-29/63858a2cfb3ff533c12df166__post9_speed_smooth_lane4.csv\n",
      "Speed field compute time: 603.159903049469s\n",
      "Writing raw speed field to /Users/worklab/Downloads/I24M_INCEPTION_v1/2022-11-29/63858a2cfb3ff533c12df166__post9_speed_raw_lane4.csv\n"
     ]
    },
    {
     "name": "stderr",
     "output_type": "stream",
     "text": [
      "Processing EGTF: 100%|█████████████████████████████████████| 720000/720000 [30:58<00:00, 387.47it/s]\n"
     ]
    },
    {
     "name": "stdout",
     "output_type": "stream",
     "text": [
      "Smoothing compute time: 1858.2085871696472s\n",
      "\n",
      "Working on new input file: /Users/worklab/Downloads/I24M_INCEPTION_v1/2022-11-28/638450a3dd50d54aa5af0cf6__post8.json\n",
      "Date of input file: 2022-11-28\n",
      "Time range 1669636800 to 1669651200\n",
      "Output file paths:\n",
      "\tRaw speed: /Users/worklab/Downloads/I24M_INCEPTION_v1/2022-11-28/638450a3dd50d54aa5af0cf6__post8_speed_raw_lane1.csv\n",
      "\tSmooth speed: /Users/worklab/Downloads/I24M_INCEPTION_v1/2022-11-28/638450a3dd50d54aa5af0cf6__post8_speed_smooth_lane1.csv\n",
      "Speed field compute time: 557.3937740325928s\n",
      "Writing raw speed field to /Users/worklab/Downloads/I24M_INCEPTION_v1/2022-11-28/638450a3dd50d54aa5af0cf6__post8_speed_raw_lane1.csv\n"
     ]
    },
    {
     "name": "stderr",
     "output_type": "stream",
     "text": [
      "Processing EGTF: 100%|█████████████████████████████████████| 720000/720000 [33:26<00:00, 358.82it/s]\n"
     ]
    },
    {
     "name": "stdout",
     "output_type": "stream",
     "text": [
      "Smoothing compute time: 2006.6253566741943s\n",
      "Output file paths:\n",
      "\tRaw speed: /Users/worklab/Downloads/I24M_INCEPTION_v1/2022-11-28/638450a3dd50d54aa5af0cf6__post8_speed_raw_lane2.csv\n",
      "\tSmooth speed: /Users/worklab/Downloads/I24M_INCEPTION_v1/2022-11-28/638450a3dd50d54aa5af0cf6__post8_speed_smooth_lane2.csv\n",
      "Speed field compute time: 553.41060090065s\n",
      "Writing raw speed field to /Users/worklab/Downloads/I24M_INCEPTION_v1/2022-11-28/638450a3dd50d54aa5af0cf6__post8_speed_raw_lane2.csv\n"
     ]
    },
    {
     "name": "stderr",
     "output_type": "stream",
     "text": [
      "Processing EGTF: 100%|█████████████████████████████████████| 720000/720000 [32:39<00:00, 367.35it/s]\n"
     ]
    },
    {
     "name": "stdout",
     "output_type": "stream",
     "text": [
      "Smoothing compute time: 1960.0056478977203s\n",
      "Output file paths:\n",
      "\tRaw speed: /Users/worklab/Downloads/I24M_INCEPTION_v1/2022-11-28/638450a3dd50d54aa5af0cf6__post8_speed_raw_lane3.csv\n",
      "\tSmooth speed: /Users/worklab/Downloads/I24M_INCEPTION_v1/2022-11-28/638450a3dd50d54aa5af0cf6__post8_speed_smooth_lane3.csv\n",
      "Speed field compute time: 537.4391000270844s\n",
      "Writing raw speed field to /Users/worklab/Downloads/I24M_INCEPTION_v1/2022-11-28/638450a3dd50d54aa5af0cf6__post8_speed_raw_lane3.csv\n"
     ]
    },
    {
     "name": "stderr",
     "output_type": "stream",
     "text": [
      "Processing EGTF: 100%|█████████████████████████████████████| 720000/720000 [30:51<00:00, 388.78it/s]\n"
     ]
    },
    {
     "name": "stdout",
     "output_type": "stream",
     "text": [
      "Smoothing compute time: 1851.98974275589s\n",
      "Output file paths:\n",
      "\tRaw speed: /Users/worklab/Downloads/I24M_INCEPTION_v1/2022-11-28/638450a3dd50d54aa5af0cf6__post8_speed_raw_lane4.csv\n",
      "\tSmooth speed: /Users/worklab/Downloads/I24M_INCEPTION_v1/2022-11-28/638450a3dd50d54aa5af0cf6__post8_speed_smooth_lane4.csv\n",
      "Speed field compute time: 529.522408246994s\n",
      "Writing raw speed field to /Users/worklab/Downloads/I24M_INCEPTION_v1/2022-11-28/638450a3dd50d54aa5af0cf6__post8_speed_raw_lane4.csv\n"
     ]
    },
    {
     "name": "stderr",
     "output_type": "stream",
     "text": [
      "Processing EGTF: 100%|█████████████████████████████████████| 720000/720000 [28:26<00:00, 421.84it/s]\n"
     ]
    },
    {
     "name": "stdout",
     "output_type": "stream",
     "text": [
      "Smoothing compute time: 1706.8353641033173s\n",
      "\n",
      "Working on new input file: /Users/worklab/Downloads/I24M_INCEPTION_v1/2022-12-01/63882be478f0cb97981425df__post11.json\n",
      "Date of input file: 2022-12-01\n",
      "Time range 1669896000 to 1669910400\n",
      "Output file paths:\n",
      "\tRaw speed: /Users/worklab/Downloads/I24M_INCEPTION_v1/2022-12-01/63882be478f0cb97981425df__post11_speed_raw_lane1.csv\n",
      "\tSmooth speed: /Users/worklab/Downloads/I24M_INCEPTION_v1/2022-12-01/63882be478f0cb97981425df__post11_speed_smooth_lane1.csv\n",
      "Speed field compute time: 613.0259959697723s\n",
      "Writing raw speed field to /Users/worklab/Downloads/I24M_INCEPTION_v1/2022-12-01/63882be478f0cb97981425df__post11_speed_raw_lane1.csv\n"
     ]
    },
    {
     "name": "stderr",
     "output_type": "stream",
     "text": [
      "Processing EGTF: 100%|█████████████████████████████████████| 720000/720000 [32:36<00:00, 368.01it/s]\n"
     ]
    },
    {
     "name": "stdout",
     "output_type": "stream",
     "text": [
      "Smoothing compute time: 1956.4996449947357s\n",
      "Output file paths:\n",
      "\tRaw speed: /Users/worklab/Downloads/I24M_INCEPTION_v1/2022-12-01/63882be478f0cb97981425df__post11_speed_raw_lane2.csv\n",
      "\tSmooth speed: /Users/worklab/Downloads/I24M_INCEPTION_v1/2022-12-01/63882be478f0cb97981425df__post11_speed_smooth_lane2.csv\n",
      "Speed field compute time: 602.5572080612183s\n",
      "Writing raw speed field to /Users/worklab/Downloads/I24M_INCEPTION_v1/2022-12-01/63882be478f0cb97981425df__post11_speed_raw_lane2.csv\n"
     ]
    },
    {
     "name": "stderr",
     "output_type": "stream",
     "text": [
      "Processing EGTF: 100%|█████████████████████████████████████| 720000/720000 [32:54<00:00, 364.71it/s]\n"
     ]
    },
    {
     "name": "stdout",
     "output_type": "stream",
     "text": [
      "Smoothing compute time: 1974.170156955719s\n",
      "Output file paths:\n",
      "\tRaw speed: /Users/worklab/Downloads/I24M_INCEPTION_v1/2022-12-01/63882be478f0cb97981425df__post11_speed_raw_lane3.csv\n",
      "\tSmooth speed: /Users/worklab/Downloads/I24M_INCEPTION_v1/2022-12-01/63882be478f0cb97981425df__post11_speed_smooth_lane3.csv\n",
      "Speed field compute time: 588.8618230819702s\n",
      "Writing raw speed field to /Users/worklab/Downloads/I24M_INCEPTION_v1/2022-12-01/63882be478f0cb97981425df__post11_speed_raw_lane3.csv\n"
     ]
    },
    {
     "name": "stderr",
     "output_type": "stream",
     "text": [
      "Processing EGTF: 100%|█████████████████████████████████████| 720000/720000 [31:13<00:00, 384.28it/s]\n"
     ]
    },
    {
     "name": "stdout",
     "output_type": "stream",
     "text": [
      "Smoothing compute time: 1873.6674189567566s\n",
      "Output file paths:\n",
      "\tRaw speed: /Users/worklab/Downloads/I24M_INCEPTION_v1/2022-12-01/63882be478f0cb97981425df__post11_speed_raw_lane4.csv\n",
      "\tSmooth speed: /Users/worklab/Downloads/I24M_INCEPTION_v1/2022-12-01/63882be478f0cb97981425df__post11_speed_smooth_lane4.csv\n",
      "Speed field compute time: 586.5277557373047s\n",
      "Writing raw speed field to /Users/worklab/Downloads/I24M_INCEPTION_v1/2022-12-01/63882be478f0cb97981425df__post11_speed_raw_lane4.csv\n"
     ]
    },
    {
     "name": "stderr",
     "output_type": "stream",
     "text": [
      "Processing EGTF: 100%|█████████████████████████████████████| 720000/720000 [30:36<00:00, 392.03it/s]\n"
     ]
    },
    {
     "name": "stdout",
     "output_type": "stream",
     "text": [
      "Smoothing compute time: 1836.6165251731873s\n",
      "\n",
      "Working on new input file: /Users/worklab/Downloads/I24M_INCEPTION_v1/2022-12-02/63898d48d430891009401330__post12.json\n",
      "Date of input file: 2022-12-02\n",
      "Time range 1669982400 to 1669996800\n",
      "Output file paths:\n",
      "\tRaw speed: /Users/worklab/Downloads/I24M_INCEPTION_v1/2022-12-02/63898d48d430891009401330__post12_speed_raw_lane1.csv\n",
      "\tSmooth speed: /Users/worklab/Downloads/I24M_INCEPTION_v1/2022-12-02/63898d48d430891009401330__post12_speed_smooth_lane1.csv\n",
      "Speed field compute time: 522.88822722435s\n",
      "Writing raw speed field to /Users/worklab/Downloads/I24M_INCEPTION_v1/2022-12-02/63898d48d430891009401330__post12_speed_raw_lane1.csv\n"
     ]
    },
    {
     "name": "stderr",
     "output_type": "stream",
     "text": [
      "Processing EGTF: 100%|█████████████████████████████████████| 720000/720000 [32:13<00:00, 372.33it/s]\n"
     ]
    },
    {
     "name": "stdout",
     "output_type": "stream",
     "text": [
      "Smoothing compute time: 1933.7853302955627s\n",
      "Output file paths:\n",
      "\tRaw speed: /Users/worklab/Downloads/I24M_INCEPTION_v1/2022-12-02/63898d48d430891009401330__post12_speed_raw_lane2.csv\n",
      "\tSmooth speed: /Users/worklab/Downloads/I24M_INCEPTION_v1/2022-12-02/63898d48d430891009401330__post12_speed_smooth_lane2.csv\n",
      "Speed field compute time: 514.7535669803619s\n",
      "Writing raw speed field to /Users/worklab/Downloads/I24M_INCEPTION_v1/2022-12-02/63898d48d430891009401330__post12_speed_raw_lane2.csv\n"
     ]
    },
    {
     "name": "stderr",
     "output_type": "stream",
     "text": [
      "Processing EGTF: 100%|█████████████████████████████████████| 720000/720000 [31:19<00:00, 383.01it/s]\n"
     ]
    },
    {
     "name": "stdout",
     "output_type": "stream",
     "text": [
      "Smoothing compute time: 1879.8543400764465s\n",
      "Output file paths:\n",
      "\tRaw speed: /Users/worklab/Downloads/I24M_INCEPTION_v1/2022-12-02/63898d48d430891009401330__post12_speed_raw_lane3.csv\n",
      "\tSmooth speed: /Users/worklab/Downloads/I24M_INCEPTION_v1/2022-12-02/63898d48d430891009401330__post12_speed_smooth_lane3.csv\n",
      "Speed field compute time: 501.14123582839966s\n",
      "Writing raw speed field to /Users/worklab/Downloads/I24M_INCEPTION_v1/2022-12-02/63898d48d430891009401330__post12_speed_raw_lane3.csv\n"
     ]
    },
    {
     "name": "stderr",
     "output_type": "stream",
     "text": [
      "Processing EGTF: 100%|█████████████████████████████████████| 720000/720000 [29:54<00:00, 401.16it/s]\n"
     ]
    },
    {
     "name": "stdout",
     "output_type": "stream",
     "text": [
      "Smoothing compute time: 1794.7958540916443s\n",
      "Output file paths:\n",
      "\tRaw speed: /Users/worklab/Downloads/I24M_INCEPTION_v1/2022-12-02/63898d48d430891009401330__post12_speed_raw_lane4.csv\n",
      "\tSmooth speed: /Users/worklab/Downloads/I24M_INCEPTION_v1/2022-12-02/63898d48d430891009401330__post12_speed_smooth_lane4.csv\n",
      "Speed field compute time: 494.85059690475464s\n",
      "Writing raw speed field to /Users/worklab/Downloads/I24M_INCEPTION_v1/2022-12-02/63898d48d430891009401330__post12_speed_raw_lane4.csv\n"
     ]
    },
    {
     "name": "stderr",
     "output_type": "stream",
     "text": [
      "Processing EGTF: 100%|█████████████████████████████████████| 720000/720000 [27:50<00:00, 431.03it/s]\n"
     ]
    },
    {
     "name": "stdout",
     "output_type": "stream",
     "text": [
      "Smoothing compute time: 1670.4258677959442s\n",
      "\n",
      "Working on new input file: /Users/worklab/Downloads/I24M_INCEPTION_v1/2022-11-30/6386d89efb3ff533c12df167__post10.json\n",
      "Date of input file: 2022-11-30\n",
      "Time range 1669809600 to 1669824000\n",
      "Output file paths:\n",
      "\tRaw speed: /Users/worklab/Downloads/I24M_INCEPTION_v1/2022-11-30/6386d89efb3ff533c12df167__post10_speed_raw_lane1.csv\n",
      "\tSmooth speed: /Users/worklab/Downloads/I24M_INCEPTION_v1/2022-11-30/6386d89efb3ff533c12df167__post10_speed_smooth_lane1.csv\n",
      "Speed field compute time: 626.4282050132751s\n",
      "Writing raw speed field to /Users/worklab/Downloads/I24M_INCEPTION_v1/2022-11-30/6386d89efb3ff533c12df167__post10_speed_raw_lane1.csv\n"
     ]
    },
    {
     "name": "stderr",
     "output_type": "stream",
     "text": [
      "Processing EGTF: 100%|█████████████████████████████████████| 720000/720000 [31:55<00:00, 375.97it/s]\n"
     ]
    },
    {
     "name": "stdout",
     "output_type": "stream",
     "text": [
      "Smoothing compute time: 1915.0710241794586s\n",
      "Output file paths:\n",
      "\tRaw speed: /Users/worklab/Downloads/I24M_INCEPTION_v1/2022-11-30/6386d89efb3ff533c12df167__post10_speed_raw_lane2.csv\n",
      "\tSmooth speed: /Users/worklab/Downloads/I24M_INCEPTION_v1/2022-11-30/6386d89efb3ff533c12df167__post10_speed_smooth_lane2.csv\n",
      "Speed field compute time: 609.5982959270477s\n",
      "Writing raw speed field to /Users/worklab/Downloads/I24M_INCEPTION_v1/2022-11-30/6386d89efb3ff533c12df167__post10_speed_raw_lane2.csv\n"
     ]
    },
    {
     "name": "stderr",
     "output_type": "stream",
     "text": [
      "Processing EGTF: 100%|█████████████████████████████████████| 720000/720000 [31:29<00:00, 381.01it/s]\n"
     ]
    },
    {
     "name": "stdout",
     "output_type": "stream",
     "text": [
      "Smoothing compute time: 1889.7437160015106s\n",
      "Output file paths:\n",
      "\tRaw speed: /Users/worklab/Downloads/I24M_INCEPTION_v1/2022-11-30/6386d89efb3ff533c12df167__post10_speed_raw_lane3.csv\n",
      "\tSmooth speed: /Users/worklab/Downloads/I24M_INCEPTION_v1/2022-11-30/6386d89efb3ff533c12df167__post10_speed_smooth_lane3.csv\n",
      "Speed field compute time: 593.581668138504s\n",
      "Writing raw speed field to /Users/worklab/Downloads/I24M_INCEPTION_v1/2022-11-30/6386d89efb3ff533c12df167__post10_speed_raw_lane3.csv\n"
     ]
    },
    {
     "name": "stderr",
     "output_type": "stream",
     "text": [
      "Processing EGTF:  91%|█████████████████████████████████▊   | 657311/720000 [28:10<02:37, 397.31it/s]"
     ]
    }
   ],
   "source": [
    "inception_root = '/Users/worklab/Downloads/I24M_INCEPTION_v1'\n",
    "dirs = [dr for dr in os.listdir(inception_root) if dr[0] != '.']\n",
    "for date_dir in dirs:\n",
    "    starttime = convert_to_cst_unix(date_dir + ' 06:00')\n",
    "    endtime = convert_to_cst_unix(date_dir + ' 10:00')\n",
    "    data_files = [fn for fn in os.listdir(os.path.join(inception_root, date_dir)) if os.path.splitext(fn)[1] == '.json']\n",
    "    if len(data_files) == 0:\n",
    "        print(\"SKIPPING DIRECTORY {}\\n\".format(date_dir))\n",
    "        continue\n",
    "    else:\n",
    "        input_filename = data_files[0]\n",
    "        input_file_path = os.path.join(inception_root, date_dir, input_filename)\n",
    "    input_stub = os.path.splitext(input_filename)[0]\n",
    "    print(f\"\\nWorking on new input file: {input_file_path}\")\n",
    "    print(f\"Date of input file: {date_dir}\")\n",
    "    print(f\"Time range {starttime} to {endtime}\")\n",
    "    \n",
    "    # dx and dt are the size of edie's box\n",
    "    dx = 0.02\n",
    "    dt = 4\n",
    "    \n",
    "    for lane_number in range(1, 5):\n",
    "        speed_raw_output_file = os.path.join(inception_root, date_dir, input_stub + '_speed_raw_lane{}.csv'.format(lane_number))\n",
    "        speed_smooth_output_file = os.path.join(inception_root, date_dir, input_stub + '_speed_smooth_lane{}.csv'.format(lane_number))\n",
    "        print(\"Output file paths:\")\n",
    "        print(f\"\\tRaw speed: {speed_raw_output_file}\")\n",
    "        print(f\"\\tSmooth speed: {speed_smooth_output_file}\")\n",
    "        \n",
    "        t0 = time.time()\n",
    "        # Ignore an expected divide by zero error\n",
    "        with warnings.catch_warnings():\n",
    "            warnings.simplefilter('ignore')\n",
    "            speed_raw = get_speed_mean_field(input_file_path, dx, dt, starttime, endtime, lane_number)\n",
    "        print(f\"Speed field compute time: {time.time() - t0}s\")\n",
    "        \n",
    "        print(f\"Writing raw speed field to {speed_raw_output_file}\")\n",
    "        # speed_raw.to_csv(speed_raw_output_file, index=False)\n",
    "        \n",
    "        t0 = time.time()\n",
    "        smooth_speed = smooth_raw_data(speed_raw, dx, dt, 0.1, 24)\n",
    "        print(f\"Smoothing compute time: {time.time() - t0}s\")\n",
    "        # smooth_speed.to_csv(speed_smooth_output_file, index=False)\n",
    "    "
   ]
  },
  {
   "cell_type": "code",
   "execution_count": null,
   "id": "1cfc6f00-a23e-42b0-a2d7-615b98025f45",
   "metadata": {},
   "outputs": [],
   "source": []
  }
 ],
 "metadata": {
  "kernelspec": {
   "display_name": "Python 3 (ipykernel)",
   "language": "python",
   "name": "python3"
  },
  "language_info": {
   "codemirror_mode": {
    "name": "ipython",
    "version": 3
   },
   "file_extension": ".py",
   "mimetype": "text/x-python",
   "name": "python",
   "nbconvert_exporter": "python",
   "pygments_lexer": "ipython3",
   "version": "3.10.13"
  }
 },
 "nbformat": 4,
 "nbformat_minor": 5
}
