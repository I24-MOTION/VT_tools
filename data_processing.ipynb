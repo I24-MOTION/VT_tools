{
 "cells": [
  {
   "cell_type": "code",
   "execution_count": 1,
   "id": "ab4bba0b-4ae8-44e2-9426-376f39df1945",
   "metadata": {
    "ExecuteTime": {
     "end_time": "2024-02-13T21:39:49.850246Z",
     "start_time": "2024-02-13T21:39:49.305351Z"
    }
   },
   "outputs": [],
   "source": [
    "import warnings\n",
    "import time\n",
    "import os\n",
    "import pandas as pd"
   ]
  },
  {
   "cell_type": "markdown",
   "source": [
    "# From raw trajectory data to generate smoothed speed data"
   ],
   "metadata": {
    "collapsed": false
   },
   "id": "1b3e8ac2f7ff080f"
  },
  {
   "cell_type": "code",
   "execution_count": null,
   "outputs": [],
   "source": [
    "from macro_data_processing import get_speed_mean_field\n",
    "from macro_data_processing import convert_to_cst_unix\n",
    "from ASM import smooth_raw_data"
   ],
   "metadata": {
    "collapsed": false
   },
   "id": "729e59597f069da4"
  },
  {
   "cell_type": "code",
   "execution_count": null,
   "id": "e4e473e8-ba1f-4990-b342-60feb9c2dd6a",
   "metadata": {},
   "outputs": [],
   "source": [
    "# Declare your root directory where you have subdirectories named by date\n",
    "#  following the convention on the data repository (e.g., 2022-11-21).\n",
    "inception_root = ''\n",
    "\n",
    "dirs = [dr for dr in os.listdir(inception_root) if dr[0] != '.']\n",
    "# Iterate through each date subdirectory.\n",
    "for date_dir in dirs:\n",
    "    # Read the date as the subdirectory name, append times, convert to Unix timestamp.\n",
    "    starttime = convert_to_cst_unix(date_dir + ' 06:00')\n",
    "    endtime = convert_to_cst_unix(date_dir + ' 10:00')\n",
    "    # Find all JSON files in the subdirectory.\n",
    "    data_files = [fn for fn in os.listdir(os.path.join(inception_root, date_dir)) \n",
    "                  if os.path.splitext(fn)[1] == '.json']\n",
    "    if len(data_files) == 0:\n",
    "        print(\"SKIPPING DIRECTORY {}\\n\".format(date_dir))\n",
    "        continue\n",
    "    else:\n",
    "        # There should only be one JSON data file in each directory.\n",
    "        input_filename = data_files[0]\n",
    "        input_file_path = os.path.join(inception_root, date_dir, input_filename)\n",
    "    # Filename portion to which we will append additional naming.\n",
    "    input_stub = os.path.splitext(input_filename)[0]\n",
    "    print(f\"\\nWorking on new input file: {input_file_path}\")\n",
    "    print(f\"Date of input file: {date_dir}\")\n",
    "    print(f\"Time range {starttime} to {endtime}\")\n",
    "    \n",
    "    # dx and dt are the size of Edie's box.\n",
    "    dx = 0.02\n",
    "    dt = 4\n",
    "\n",
    "    # Compute the raw and smooth spatiotemporal speed fields for each lane 1-4.\n",
    "    for lane_number in range(1, 5):\n",
    "        speed_raw_output_file = os.path.join(inception_root, date_dir, input_stub + '_speed_raw_lane{}.csv'.format(lane_number))\n",
    "        speed_smooth_output_file = os.path.join(inception_root, date_dir, input_stub + '_speed_smooth_lane{}.csv'.format(lane_number))\n",
    "        print(\"Output file paths:\")\n",
    "        print(f\"\\tRaw speed: {speed_raw_output_file}\")\n",
    "        print(f\"\\tSmooth speed: {speed_smooth_output_file}\")\n",
    "        \n",
    "        t0 = time.time()\n",
    "        # Silence/ignore an expected divide by zero error.\n",
    "        with warnings.catch_warnings():\n",
    "            warnings.simplefilter('ignore')\n",
    "            speed_raw = get_speed_mean_field(input_file_path, dx, dt, starttime, endtime, lane_number)\n",
    "        print(f\"Speed field compute time: {time.time() - t0}s\")\n",
    "        \n",
    "        print(f\"Writing raw speed field to {speed_raw_output_file}\")\n",
    "        speed_raw.to_csv(speed_raw_output_file, index=False)\n",
    "        \n",
    "        t0 = time.time()\n",
    "        smooth_speed = smooth_raw_data(speed_raw, dx, dt, 0.1, 24)\n",
    "        print(f\"Smoothing compute time: {time.time() - t0}s\")\n",
    "        smooth_speed.to_csv(speed_smooth_output_file, index=False)\n",
    "    "
   ]
  },
  {
   "cell_type": "markdown",
   "source": [
    "# From smoothed data to generate virtual trajectories "
   ],
   "metadata": {
    "collapsed": false
   },
   "id": "fec55737e38ad847"
  },
  {
   "cell_type": "code",
   "execution_count": 3,
   "outputs": [],
   "source": [
    "from macro_data_processing import convert_to_cst_unix\n",
    "from virtual_trajectory_generation import gen_all_VT"
   ],
   "metadata": {
    "collapsed": false,
    "ExecuteTime": {
     "end_time": "2024-02-13T21:36:11.573049Z",
     "start_time": "2024-02-13T21:36:11.037Z"
    }
   },
   "id": "17de8acf32a5b8c5"
  },
  {
   "cell_type": "code",
   "execution_count": null,
   "id": "1cfc6f00-a23e-42b0-a2d7-615b98025f45",
   "metadata": {
    "ExecuteTime": {
     "start_time": "2024-02-13T21:37:01.353168Z"
    }
   },
   "outputs": [
    {
     "name": "stdout",
     "output_type": "stream",
     "text": [
      "\n",
      "Working on new input file: /Volumes/WorkLabJJ/Data/I-24 MOTION PUBLIC DATASETS/VT-tools_INCEPTION_v1/2022-11-21/637b023440527bf2daa5932f__post1_speed_smooth_lane1.csv\n",
      "Date of input file: 2022-11-21\n",
      "Time range 1669032000 to 1669046400\n",
      "Virtual trajectories for 2022-11-21 lane 1 is generated.\n",
      "\n",
      "Working on new input file: /Volumes/WorkLabJJ/Data/I-24 MOTION PUBLIC DATASETS/VT-tools_INCEPTION_v1/2022-11-21/637b023440527bf2daa5932f__post1_speed_smooth_lane2.csv\n",
      "Date of input file: 2022-11-21\n",
      "Time range 1669032000 to 1669046400\n"
     ]
    }
   ],
   "source": [
    "inception_root = ''\n",
    "dirs = [dr for dr in os.listdir(inception_root) if dr[0] != '.']\n",
    "for date_dir in dirs:\n",
    "    starttime = convert_to_cst_unix(date_dir + ' 06:00')\n",
    "    endtime = convert_to_cst_unix(date_dir + ' 10:00')\n",
    "    data_files = [fn for fn in os.listdir(os.path.join(inception_root, date_dir)) \n",
    "                  if os.path.splitext(fn)[1] == '.csv' and 'smooth' in fn]\n",
    "    if len(data_files) == 0:\n",
    "        print(\"SKIPPING DIRECTORY {}\\n\".format(date_dir))\n",
    "        continue\n",
    "    for lane_data_file in data_files:\n",
    "        lane_number = int(os.path.splitext(lane_data_file)[0].split('_')[-1][-1])\n",
    "        input_file_path = os.path.join(inception_root, date_dir, lane_data_file)\n",
    "        print(f\"\\nWorking on new input file: {input_file_path}\")\n",
    "        print(f\"Date of input file: {date_dir}\")\n",
    "        print(f\"Time range {starttime} to {endtime}\")\n",
    "        contains_dot_underscore = \"._\" in input_file_path\n",
    "        if contains_dot_underscore==False:\n",
    "            smooth_speed = pd.read_csv(input_file_path)\n",
    "            vt_all = gen_all_VT(smooth_speed, frequency = 120, hour=3)\n",
    "            vt_all.to_csv(os.path.join(inception_root, date_dir) + f'/vt_lane{lane_number}.csv', index=False)\n",
    "            print(f\"Virtual trajectories for {date_dir} lane {lane_number} is generated.\")"
   ]
  },
  {
   "cell_type": "code",
   "execution_count": null,
   "outputs": [],
   "source": [],
   "metadata": {
    "collapsed": false
   },
   "id": "b90fcdc99eba7f2a"
  }
 ],
 "metadata": {
  "kernelspec": {
   "display_name": "Python 3 (ipykernel)",
   "language": "python",
   "name": "python3"
  },
  "language_info": {
   "codemirror_mode": {
    "name": "ipython",
    "version": 3
   },
   "file_extension": ".py",
   "mimetype": "text/x-python",
   "name": "python",
   "nbconvert_exporter": "python",
   "pygments_lexer": "ipython3",
   "version": "3.10.13"
  }
 },
 "nbformat": 4,
 "nbformat_minor": 5
}
