{
 "cells": [
  {
   "cell_type": "code",
   "execution_count": null,
   "id": "e111d236",
   "metadata": {},
   "outputs": [],
   "source": [
    "import pandas as pd\n",
    "import os\n",
    "import re\n",
    "import warnings\n",
    "import time"
   ]
  },
  {
   "cell_type": "code",
   "execution_count": null,
   "id": "df24fe8c",
   "metadata": {},
   "outputs": [],
   "source": [
    "from visualization import visualize_heatmap, visualize_heatmap_vt\n",
    "from macro_data_processing import convert_to_cst_unix"
   ]
  },
  {
   "cell_type": "code",
   "execution_count": null,
   "id": "47b47f51",
   "metadata": {},
   "outputs": [],
   "source": [
    "# Specify an input directory where raw and/or smooth speed field CSV files reside.\n",
    "# The directory should contain files pertaining to a specific day (e.g., /.../2022-11-21).\n",
    "inception_vt_root = ''\n",
    "\n",
    "# Manually define start and end times for the data you are loading.\n",
    "starttime = convert_to_cst_unix('2022-11-22 06:00')\n",
    "endtime = convert_to_cst_unix('2022-11-22 10:00')"
   ]
  },
  {
   "cell_type": "code",
   "execution_count": null,
   "id": "e559555f",
   "metadata": {},
   "outputs": [],
   "source": [
    "# Visualize each raw and smooth speed field found in the given directory.\n",
    "for filename in os.listdir(inception_vt_root):\n",
    "    if os.path.splitext(filename)[1] == '.csv' and 'speed' in filename:\n",
    "        file_path = os.path.join(inception_vt_root, filename)\n",
    "        smooth_data = pd.read_csv(file_path)\n",
    "        # Use a regex match to get the lane out of the filename.\n",
    "        pattern = r'lane(\\d+)'\n",
    "        match = re.search(pattern, file_path)\n",
    "        if match:\n",
    "            lane_number = match.group(1)\n",
    "        else:\n",
    "            print(\"Lane number not found in the input string.\")\n",
    "        print(filename)\n",
    "        # If there is a virtual trajectory data file in the directory, load and plot that too.\n",
    "        vt_fn = f'vt_lane{lane_number}.csv'\n",
    "        if vt_fn in os.listdir(inception_vt_root):\n",
    "            vts = pd.read_csv(os.path.join(inception_vt_root, vt_fn))\n",
    "            visualize_heatmap_vt(smooth_data, vts, starttime, endtime,\n",
    "                                 fig_width=16, fig_height=8, minor_xtick=1800)\n",
    "        else:\n",
    "            visualize_heatmap(smooth_data, starttime, endtime,\n",
    "                              fig_width=16, fig_height=8, minor_xtick=1800)\n",
    "    "
   ]
  },
  {
   "cell_type": "code",
   "execution_count": null,
   "id": "7f3e394c-d184-478e-b907-9a682c3c3699",
   "metadata": {},
   "outputs": [],
   "source": []
  }
 ],
 "metadata": {
  "kernelspec": {
   "display_name": "Python 3 (ipykernel)",
   "language": "python",
   "name": "python3"
  },
  "language_info": {
   "codemirror_mode": {
    "name": "ipython",
    "version": 3
   },
   "file_extension": ".py",
   "mimetype": "text/x-python",
   "name": "python",
   "nbconvert_exporter": "python",
   "pygments_lexer": "ipython3",
   "version": "3.10.13"
  }
 },
 "nbformat": 4,
 "nbformat_minor": 5
}
