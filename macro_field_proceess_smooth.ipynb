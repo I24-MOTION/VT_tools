{
 "cells": [
  {
   "cell_type": "code",
   "execution_count": null,
   "id": "efa91a51",
   "metadata": {
    "is_executing": true,
    "ExecuteTime": {
     "start_time": "2024-02-05T17:26:09.531455Z"
    }
   },
   "outputs": [
    {
     "name": "stdout",
     "output_type": "stream",
     "text": [
      "Speed field compute time: 661.7208020687103s\n"
     ]
    },
    {
     "name": "stderr",
     "output_type": "stream",
     "text": [
      "Processing EGTF:   8%|▊         | 58374/720000 [04:31<50:39, 217.69it/s]  "
     ]
    }
   ],
   "source": [
    "from macro_data_processing import get_speed_mean_field\n",
    "from macro_data_processing import convert_to_cst_unix\n",
    "import warnings\n",
    "import time\n",
    "\n",
    "starttime = convert_to_cst_unix('2022-11-22 06:00')\n",
    "endtime = convert_to_cst_unix('2022-11-22 10:00')\n",
    "input_filename = \"data/raw_traj_data/\"+\"637c399add50d54aa5af0cf4\"+\"__post2.json\"\n",
    "# dx and dt are the size of edie's box\n",
    "dx = 0.02\n",
    "dt = 4\n",
    "# lane_number = 1\n",
    "for lane_number in range(2,5):\n",
    "    t0 = time.time()\n",
    "    # Ignore an expected divide by zero error\n",
    "    with warnings.catch_warnings():\n",
    "        warnings.simplefilter('ignore')\n",
    "        speed_raw = get_speed_mean_field(input_filename, dx, dt, starttime, endtime, lane_number)\n",
    "    print(f\"Speed field compute time: {time.time() - t0}s\")\n",
    "    speed_raw.to_csv(f'data/macro_raw_data/637c399add50d54aa5af0cf4_macro_field_lane_{lane_number}.csv', index=False)\n",
    "    # Import the speed field smoother and run it on the raw speed field.\n",
    "    from ASM import smooth_raw_data\n",
    "    t0 = time.time()\n",
    "    dx = 0.02\n",
    "    dt = 4\n",
    "    smooth_speed = smooth_raw_data(speed_raw, dx, dt, 0.1, 24)\n",
    "    print(f\"Smoothing compute time: {time.time() - t0}s\")\n",
    "    smooth_speed.to_csv(f'data/macro_smooth_data/637c399add50d54aa5af0cf4_macro_field_lane_{lane_number}.csv', index=False)"
   ]
  }
 ],
 "metadata": {
  "kernelspec": {
   "display_name": "Python 3 (ipykernel)",
   "language": "python",
   "name": "python3"
  },
  "language_info": {
   "codemirror_mode": {
    "name": "ipython",
    "version": 3
   },
   "file_extension": ".py",
   "mimetype": "text/x-python",
   "name": "python",
   "nbconvert_exporter": "python",
   "pygments_lexer": "ipython3",
   "version": "3.11.6"
  }
 },
 "nbformat": 4,
 "nbformat_minor": 5
}
