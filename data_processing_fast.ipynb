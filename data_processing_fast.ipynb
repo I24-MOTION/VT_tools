{
 "cells": [
  {
   "cell_type": "markdown",
   "metadata": {},
   "source": [
    "# Speeding the Code Up to 300 times Faster Compared with Original Code"
   ]
  },
  {
   "cell_type": "code",
   "execution_count": 2,
   "metadata": {},
   "outputs": [],
   "source": [
    "import time\n",
    "import pandas as pd\n",
    "import numpy as np\n",
    "from tqdm.notebook import tqdm"
   ]
  },
  {
   "cell_type": "markdown",
   "metadata": {},
   "source": [
    "## 1. Original Code\n",
    "- All the descriptions are removed for the clear comparision\n",
    "- The source of the functions are ASM.py file\n",
    "- Due to the difference in unit (ft/sec) and axis setting (x-position and time stamp starts from 0, proceeds to positive value), the hyper parameters are adjusted"
   ]
  },
  {
   "cell_type": "markdown",
   "metadata": {},
   "source": [
    "- Original paper that ASM.py is based on: An adaptive smoothing method for traffic state identification from incomplete information [link to paper](https://link.springer.com/chapter/10.1007/978-3-662-07969-0_33)\n",
    "\n",
    "- smooth_x_window $\\sigma$\n",
    "    - Paper → 0.60 km = 0.373 mi = 1,968.5 ft\n",
    "    - Example code → 0.24 km = 0.150 mi = 792.0 ft\n",
    "    - 1,000 ft is used\n",
    "- smooth_t_window $\\tau$\n",
    "    - Paper → 1.1 min = 66 sec\n",
    "    - Example code → 0.6 min = 36 sec\n",
    "    - 60 sec is used\n",
    "- c_free\n",
    "    - Paper → +80 km/h = +49.7 mi/h = +72.9 ft/s\n",
    "    - Example code → -69.2 km/h = -43.0 mi/h = -63.1 ft/s\n",
    "    - Based on the data analysis, 90 ft/s is used\n",
    "- c_cong\n",
    "    - Paper → -15.0 km/h = -9.3 mile/h = -13.7 ft/s\n",
    "    - Example code → +20.9 km/h = +13 mile/h = +19.1 ft/s\n",
    "    - Based on the data analysis, -15 ft/s is used\n",
    "- V_c\n",
    "    - Paper → 60 km/h → 37.3 mile/h → 54.7 ft/s\n",
    "    - Example code → 60 km/h → approximated to 36.0 mile/h → 52.8 ft/s\n",
    "    - 55 ft/s  is used\n",
    "- $\\Delta V$ (Transition region)\n",
    "    - Paper → 20 km/h → 12.43 mile/h → 18.2269 ft/s\n",
    "    - Example code → 20 km/h → 12.43 mile/h → 18.2269 ft/s\n",
    "    - 18.227 ft/s  is used"
   ]
  },
  {
   "cell_type": "code",
   "execution_count": 3,
   "metadata": {},
   "outputs": [],
   "source": [
    "def beta_free_flow(x, t, x_s, t_s, x_win, t_win, c_free=90):\n",
    "\n",
    "    dt = t-t_s- (x-x_s)/c_free\n",
    "    dx = x-x_s\n",
    "    return np.exp(-(np.abs(dx)/x_win + np.abs(dt)/t_win))\n",
    "\n",
    "\n",
    "def beta_cong_flow(x, t, x_s, t_s, x_win, t_win, c_cong=-15):\n",
    "\n",
    "    dt = t-t_s- (x-x_s)/c_cong\n",
    "    dx = x-x_s\n",
    "    return np.exp(-(np.abs(dx)/x_win + np.abs(dt)/t_win))\n",
    "\n",
    "\n",
    "def EGTF(x, t, smooth_x_window, smooth_t_window, speed_raw_df):\n",
    "\n",
    "    speed = speed_raw_df[(np.abs(speed_raw_df.t - t)<=(smooth_t_window/2)) & (np.abs(speed_raw_df.x - x)<=(smooth_x_window/2))]\n",
    "        \n",
    "    speed = speed.copy()\n",
    "    EGTF_v_free = 80\n",
    "    EGTF_v_cong = 80\n",
    "\n",
    "    speed['beta_free'] = speed.apply(\n",
    "        lambda v: beta_free_flow(x, t, v.x, v.t, smooth_x_window, smooth_t_window),\n",
    "        axis=1)\n",
    "    speed['beta_cong'] = speed.apply(\n",
    "        lambda v: beta_cong_flow(x, t, v.x, v.t, smooth_x_window, smooth_t_window),\n",
    "        axis=1)\n",
    "    if((sum(speed.beta_free)!=0) & (sum(speed.beta_cong)!=0)):\n",
    "        EGTF_v_free = sum(speed.beta_free * speed.speed) / sum(speed.beta_free)\n",
    "        EGTF_v_cong = sum(speed.beta_cong * speed.speed) / sum(speed.beta_cong)\n",
    "    v = min(EGTF_v_free,EGTF_v_cong)\n",
    "    tanh_term = np.tanh((55-v) / 18.227)\n",
    "    w = 0.5*(1+tanh_term)\n",
    "    return w*EGTF_v_cong + (1-w)*EGTF_v_free\n",
    "\n",
    "\n",
    "def smooth_raw_data(speed_raw, dx, dt, smooth_x_window=1000, smooth_t_window=60):\n",
    "\n",
    "    EGTF_speed = pd.DataFrame(speed_raw)\n",
    "    EGTF_speed.columns=['t_index','x_index','speed']\n",
    "    EGTF_speed['t'] = dt*EGTF_speed['t_index']\n",
    "    EGTF_speed['x'] = dx*EGTF_speed['x_index']\n",
    "    speed_raw_df  = EGTF_speed.dropna().copy()\n",
    "    tqdm.pandas(desc=\"Processing EGTF\")\n",
    "    EGTF_speed['EGTF'] = EGTF_speed.progress_apply(lambda v: EGTF(v.x, v.t, smooth_x_window,smooth_t_window,speed_raw_df), axis=1)\n",
    "    EGTF_speed.columns = ['t','x','raw_speed','time','milemarker','speed']\n",
    "    return EGTF_speed"
   ]
  },
  {
   "cell_type": "markdown",
   "metadata": {},
   "source": [
    "- The speed_mat file is a 2D array. \n",
    "- X-axis is a time-axis and Y-axis is a x-position.\n",
    "- The value of each element is speed.\n",
    "- For a quick and clear comparision, use the part of the original array (100 by 120)\n",
    "- 100 by 120 is equal to 100 sec by 1200 ft"
   ]
  },
  {
   "cell_type": "code",
   "execution_count": 3,
   "metadata": {},
   "outputs": [],
   "source": [
    "'''\n",
    "select your own path to the speed matrix, then adjust the code\n",
    "'''\n",
    "\n",
    "# speed_mat = np.load('westbound_11_29_21_23_lane_1.npy')\n",
    "\n",
    "# cut 100 by 120\n",
    "# speed_mat = speed_mat[:100, :120]\n",
    "\n",
    "# time_w, space_w = speed_mat.shape\n",
    "\n",
    "# t_col = np.arange(time_w).repeat(space_w)\n",
    "# x_col = np.tile(np.arange(space_w), time_w)\n",
    "\n",
    "# speed_df = pd.DataFrame({'t': t_col, 'x': x_col, 'speed': speed_mat.flatten()})\n",
    "# speed_df.to_csv('selected/lane_matrix/westbound_11_29_21_23_speed_raw_lane_1_slice.csv', index=False)"
   ]
  },
  {
   "cell_type": "code",
   "execution_count": 4,
   "metadata": {},
   "outputs": [
    {
     "data": {
      "application/vnd.jupyter.widget-view+json": {
       "model_id": "df742636f06a479c82923cb0d91fc6e9",
       "version_major": 2,
       "version_minor": 0
      },
      "text/plain": [
       "Processing EGTF:   0%|          | 0/12000 [00:00<?, ?it/s]"
      ]
     },
     "metadata": {},
     "output_type": "display_data"
    },
    {
     "name": "stdout",
     "output_type": "stream",
     "text": [
      "Smoothing compute time: 1173.5075566768646s\n"
     ]
    }
   ],
   "source": [
    "speed_df = pd.read_csv('westbound_11_29_21_23_speed_raw_lane_1_slice.csv')\n",
    "\n",
    "dx = 10 \n",
    "dt = 1\n",
    "\n",
    "t0 = time.time()\n",
    "smooth_speed = smooth_raw_data(speed_df, dx, dt, 1000, 60)\n",
    "print(f\"Smoothing compute time: {time.time() - t0}s\")\n",
    "\n",
    "smooth_speed.to_csv('westbound_11_29_21_23_speed_raw_lane_1_smooth_1.csv', index=False)"
   ]
  },
  {
   "cell_type": "markdown",
   "metadata": {},
   "source": [
    "- Total time consumption can vary, but usually around 1,000 sec"
   ]
  },
  {
   "cell_type": "markdown",
   "metadata": {},
   "source": [
    "## 2. Updated Code"
   ]
  },
  {
   "cell_type": "code",
   "execution_count": 10,
   "metadata": {},
   "outputs": [
    {
     "name": "stdout",
     "output_type": "stream",
     "text": [
      "Smoothing compute time: 3.3159537315368652s\n"
     ]
    }
   ],
   "source": [
    "speed_df = pd.read_csv('westbound_11_29_21_23_speed_raw_lane_1_slice.csv')\n",
    "speed_raw = speed_df.speed.values.reshape(100, 120)\n",
    "\n",
    "t0 = time.time()\n",
    "\n",
    "time_w, space_w = speed_raw.shape\n",
    "\n",
    "x_scale = 10\n",
    "t_win = 60 # 30 sec\n",
    "x_win = 100 # 1000 ft\n",
    "c_free = 90\n",
    "c_cong = -15\n",
    "\n",
    "# create time matrix and space matrix\n",
    "time_mat = np.arange(time_w).repeat(space_w).reshape(time_w, -1)\n",
    "space_mat = np.asarray([np.arange(space_w)]*(time_w)) * x_scale\n",
    "\n",
    "speed_smooth = np.zeros((time_w, space_w))\n",
    "\n",
    "for time_idx in range(time_w):\n",
    "    for space_idx in range(space_w):\n",
    "\n",
    "        EGTF_v_free = 80\n",
    "        EGTF_v_cong = 80\n",
    "\n",
    "        # time_idx and real time is 1:1, space_idx and real space is 1:10\n",
    "        time_val = time_idx\n",
    "        space_val = space_idx * x_scale\n",
    "\n",
    "        t_start = max(time_idx-(t_win//2), 0)\n",
    "        t_end = min(time_idx+(t_win//2)+1, time_w)\n",
    "        \n",
    "        x_start = max(space_idx-(x_win//2), 0)\n",
    "        x_end = min(space_idx+(x_win//2)+1, space_w)\n",
    "        \n",
    "        speed_slice = speed_raw[t_start:t_end, x_start:x_end]\n",
    "        time_slice = time_mat[t_start:t_end, x_start:x_end]\n",
    "        space_slice = space_mat[t_start:t_end, x_start:x_end]\n",
    "        \n",
    "        time_diff = time_val-time_slice\n",
    "        dx_mat = space_val-space_slice\n",
    "\n",
    "        dt_mat_free = time_diff - dx_mat/c_free\n",
    "        dt_mat_cong = time_diff - dx_mat/c_cong\n",
    "\n",
    "        beta_mat_free = np.exp(-(np.abs(dt_mat_free)/t_win + np.abs(dx_mat)/(x_win*x_scale)))\n",
    "        beta_mat_cong = np.exp(-(np.abs(dt_mat_cong)/t_win + np.abs(dx_mat)/(x_win*x_scale)))\n",
    "        \n",
    "        if (sum(sum(beta_mat_free)) != 0) and (sum(sum(beta_mat_cong)) != 0):\n",
    "            EGTF_v_free = sum(sum(beta_mat_free * speed_slice)) / sum(sum(beta_mat_free))\n",
    "            EGTF_v_cong = sum(sum(beta_mat_cong * speed_slice)) / sum(sum(beta_mat_cong))\n",
    "        \n",
    "        v = min(EGTF_v_free, EGTF_v_cong)\n",
    "        tanh_term = np.tanh((55 - v) / 18.227)\n",
    "        w = 0.5*(1+tanh_term)\n",
    "        speed_smooth[time_idx, space_idx] = w*EGTF_v_cong + (1-w)*EGTF_v_free\n",
    "\n",
    "t_col = np.arange(0, 100).repeat(120)\n",
    "x_col = np.tile(np.arange(0, 120), 100)\n",
    "\n",
    "print(f\"Smoothing compute time: {time.time() - t0}s\")\n",
    "\n",
    "speed_df = pd.DataFrame({'t': t_col, 'x': x_col, 'raw': speed_raw.flatten(), 'speed': speed_smooth.flatten()})\n",
    "speed_df.to_csv('westbound_11_29_21_23_speed_raw_lane_1_smooth_2.csv', index=False)"
   ]
  },
  {
   "cell_type": "markdown",
   "metadata": {},
   "source": [
    "- Total time consumption is about 3.33 sec.\n",
    "- Using matrix-wise computation and indexing, the speed of the code got 300 times faster.\n",
    "- Output file shows the exact same results."
   ]
  }
 ],
 "metadata": {
  "kernelspec": {
   "display_name": ".venv",
   "language": "python",
   "name": "python3"
  },
  "language_info": {
   "codemirror_mode": {
    "name": "ipython",
    "version": 3
   },
   "file_extension": ".py",
   "mimetype": "text/x-python",
   "name": "python",
   "nbconvert_exporter": "python",
   "pygments_lexer": "ipython3",
   "version": "3.12.1"
  }
 },
 "nbformat": 4,
 "nbformat_minor": 2
}
